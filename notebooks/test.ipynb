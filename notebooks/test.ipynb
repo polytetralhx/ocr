{
 "cells": [
  {
   "attachments": {},
   "cell_type": "markdown",
   "metadata": {},
   "source": [
    "## Updates\n",
    "- Pytesseract attempt (done 23/6/2023)\n",
    "- [Perspective Transformation (perspective)](https://towardsdatascience.com/perspective-versus-affine-transformation-25033cef5766)\n",
    "- contrast adjustment\n",
    "- update codebase for ocrimg and dashboard"
   ]
  },
  {
   "cell_type": "code",
   "execution_count": 47,
   "metadata": {},
   "outputs": [
    {
     "name": "stdout",
     "output_type": "stream",
     "text": [
      "Requirement already satisfied: opencv-python in c:\\users\\lim hui xuan\\desktop\\coding\\work\\ocr\\tessenv\\lib\\site-packages (4.7.0.72)\n",
      "Requirement already satisfied: numpy>=1.17.3 in c:\\users\\lim hui xuan\\desktop\\coding\\work\\ocr\\tessenv\\lib\\site-packages (from opencv-python) (1.24.3)\n",
      "Note: you may need to restart the kernel to use updated packages.\n"
     ]
    },
    {
     "name": "stderr",
     "output_type": "stream",
     "text": [
      "WARNING: Ignoring invalid distribution -pencv-python-headless (c:\\users\\lim hui xuan\\desktop\\coding\\work\\ocr\\tessenv\\lib\\site-packages)\n",
      "WARNING: Ignoring invalid distribution -pencv-python-headless (c:\\users\\lim hui xuan\\desktop\\coding\\work\\ocr\\tessenv\\lib\\site-packages)\n",
      "WARNING: Ignoring invalid distribution -pencv-python-headless (c:\\users\\lim hui xuan\\desktop\\coding\\work\\ocr\\tessenv\\lib\\site-packages)\n",
      "WARNING: Ignoring invalid distribution -pencv-python-headless (c:\\users\\lim hui xuan\\desktop\\coding\\work\\ocr\\tessenv\\lib\\site-packages)\n",
      "WARNING: Ignoring invalid distribution -pencv-python-headless (c:\\users\\lim hui xuan\\desktop\\coding\\work\\ocr\\tessenv\\lib\\site-packages)\n",
      "WARNING: Ignoring invalid distribution -pencv-python-headless (c:\\users\\lim hui xuan\\desktop\\coding\\work\\ocr\\tessenv\\lib\\site-packages)\n",
      "WARNING: You are using pip version 22.0.4; however, version 23.1.2 is available.\n",
      "You should consider upgrading via the 'c:\\Users\\Lim Hui Xuan\\Desktop\\coding\\work\\ocr\\tessenv\\Scripts\\python.exe -m pip install --upgrade pip' command.\n"
     ]
    },
    {
     "name": "stdout",
     "output_type": "stream",
     "text": [
      "Requirement already satisfied: matplotlib in c:\\users\\lim hui xuan\\desktop\\coding\\work\\ocr\\tessenv\\lib\\site-packages (3.7.1)\n",
      "Requirement already satisfied: pillow>=6.2.0 in c:\\users\\lim hui xuan\\desktop\\coding\\work\\ocr\\tessenv\\lib\\site-packages (from matplotlib) (9.5.0)\n",
      "Requirement already satisfied: fonttools>=4.22.0 in c:\\users\\lim hui xuan\\desktop\\coding\\work\\ocr\\tessenv\\lib\\site-packages (from matplotlib) (4.39.4)\n",
      "Requirement already satisfied: importlib-resources>=3.2.0 in c:\\users\\lim hui xuan\\desktop\\coding\\work\\ocr\\tessenv\\lib\\site-packages (from matplotlib) (5.12.0)\n",
      "Requirement already satisfied: contourpy>=1.0.1 in c:\\users\\lim hui xuan\\desktop\\coding\\work\\ocr\\tessenv\\lib\\site-packages (from matplotlib) (1.0.7)\n",
      "Requirement already satisfied: kiwisolver>=1.0.1 in c:\\users\\lim hui xuan\\desktop\\coding\\work\\ocr\\tessenv\\lib\\site-packages (from matplotlib) (1.4.4)\n",
      "Requirement already satisfied: packaging>=20.0 in c:\\users\\lim hui xuan\\desktop\\coding\\work\\ocr\\tessenv\\lib\\site-packages (from matplotlib) (23.1)\n",
      "Requirement already satisfied: cycler>=0.10 in c:\\users\\lim hui xuan\\desktop\\coding\\work\\ocr\\tessenv\\lib\\site-packages (from matplotlib) (0.11.0)\n",
      "Requirement already satisfied: numpy>=1.20 in c:\\users\\lim hui xuan\\desktop\\coding\\work\\ocr\\tessenv\\lib\\site-packages (from matplotlib) (1.24.3)\n",
      "Requirement already satisfied: pyparsing>=2.3.1 in c:\\users\\lim hui xuan\\desktop\\coding\\work\\ocr\\tessenv\\lib\\site-packages (from matplotlib) (3.0.9)\n",
      "Requirement already satisfied: python-dateutil>=2.7 in c:\\users\\lim hui xuan\\desktop\\coding\\work\\ocr\\tessenv\\lib\\site-packages (from matplotlib) (2.8.2)\n",
      "Requirement already satisfied: zipp>=3.1.0 in c:\\users\\lim hui xuan\\desktop\\coding\\work\\ocr\\tessenv\\lib\\site-packages (from importlib-resources>=3.2.0->matplotlib) (3.15.0)\n",
      "Requirement already satisfied: six>=1.5 in c:\\users\\lim hui xuan\\desktop\\coding\\work\\ocr\\tessenv\\lib\\site-packages (from python-dateutil>=2.7->matplotlib) (1.16.0)\n",
      "Note: you may need to restart the kernel to use updated packages.\n"
     ]
    },
    {
     "name": "stderr",
     "output_type": "stream",
     "text": [
      "WARNING: Ignoring invalid distribution -pencv-python-headless (c:\\users\\lim hui xuan\\desktop\\coding\\work\\ocr\\tessenv\\lib\\site-packages)\n",
      "WARNING: Ignoring invalid distribution -pencv-python-headless (c:\\users\\lim hui xuan\\desktop\\coding\\work\\ocr\\tessenv\\lib\\site-packages)\n",
      "WARNING: Ignoring invalid distribution -pencv-python-headless (c:\\users\\lim hui xuan\\desktop\\coding\\work\\ocr\\tessenv\\lib\\site-packages)\n",
      "WARNING: Ignoring invalid distribution -pencv-python-headless (c:\\users\\lim hui xuan\\desktop\\coding\\work\\ocr\\tessenv\\lib\\site-packages)\n",
      "WARNING: Ignoring invalid distribution -pencv-python-headless (c:\\users\\lim hui xuan\\desktop\\coding\\work\\ocr\\tessenv\\lib\\site-packages)\n",
      "WARNING: Ignoring invalid distribution -pencv-python-headless (c:\\users\\lim hui xuan\\desktop\\coding\\work\\ocr\\tessenv\\lib\\site-packages)\n",
      "WARNING: You are using pip version 22.0.4; however, version 23.1.2 is available.\n",
      "You should consider upgrading via the 'c:\\Users\\Lim Hui Xuan\\Desktop\\coding\\work\\ocr\\tessenv\\Scripts\\python.exe -m pip install --upgrade pip' command.\n"
     ]
    },
    {
     "name": "stdout",
     "output_type": "stream",
     "text": [
      "Requirement already satisfied: pytesseract in c:\\users\\lim hui xuan\\desktop\\coding\\work\\ocr\\tessenv\\lib\\site-packages (0.3.10)\n",
      "Requirement already satisfied: Pillow>=8.0.0 in c:\\users\\lim hui xuan\\desktop\\coding\\work\\ocr\\tessenv\\lib\\site-packages (from pytesseract) (9.5.0)\n",
      "Requirement already satisfied: packaging>=21.3 in c:\\users\\lim hui xuan\\desktop\\coding\\work\\ocr\\tessenv\\lib\\site-packages (from pytesseract) (23.1)\n",
      "Note: you may need to restart the kernel to use updated packages.\n"
     ]
    },
    {
     "name": "stderr",
     "output_type": "stream",
     "text": [
      "WARNING: Ignoring invalid distribution -pencv-python-headless (c:\\users\\lim hui xuan\\desktop\\coding\\work\\ocr\\tessenv\\lib\\site-packages)\n",
      "WARNING: Ignoring invalid distribution -pencv-python-headless (c:\\users\\lim hui xuan\\desktop\\coding\\work\\ocr\\tessenv\\lib\\site-packages)\n",
      "WARNING: Ignoring invalid distribution -pencv-python-headless (c:\\users\\lim hui xuan\\desktop\\coding\\work\\ocr\\tessenv\\lib\\site-packages)\n",
      "WARNING: Ignoring invalid distribution -pencv-python-headless (c:\\users\\lim hui xuan\\desktop\\coding\\work\\ocr\\tessenv\\lib\\site-packages)\n",
      "WARNING: Ignoring invalid distribution -pencv-python-headless (c:\\users\\lim hui xuan\\desktop\\coding\\work\\ocr\\tessenv\\lib\\site-packages)\n",
      "WARNING: Ignoring invalid distribution -pencv-python-headless (c:\\users\\lim hui xuan\\desktop\\coding\\work\\ocr\\tessenv\\lib\\site-packages)\n",
      "WARNING: You are using pip version 22.0.4; however, version 23.1.2 is available.\n",
      "You should consider upgrading via the 'c:\\Users\\Lim Hui Xuan\\Desktop\\coding\\work\\ocr\\tessenv\\Scripts\\python.exe -m pip install --upgrade pip' command.\n"
     ]
    },
    {
     "name": "stdout",
     "output_type": "stream",
     "text": [
      "Requirement already satisfied: regex in c:\\users\\lim hui xuan\\desktop\\coding\\work\\ocr\\tessenv\\lib\\site-packages (2023.6.3)\n",
      "Note: you may need to restart the kernel to use updated packages.\n"
     ]
    },
    {
     "name": "stderr",
     "output_type": "stream",
     "text": [
      "WARNING: Ignoring invalid distribution -pencv-python-headless (c:\\users\\lim hui xuan\\desktop\\coding\\work\\ocr\\tessenv\\lib\\site-packages)\n",
      "WARNING: Ignoring invalid distribution -pencv-python-headless (c:\\users\\lim hui xuan\\desktop\\coding\\work\\ocr\\tessenv\\lib\\site-packages)\n",
      "WARNING: Ignoring invalid distribution -pencv-python-headless (c:\\users\\lim hui xuan\\desktop\\coding\\work\\ocr\\tessenv\\lib\\site-packages)\n",
      "WARNING: Ignoring invalid distribution -pencv-python-headless (c:\\users\\lim hui xuan\\desktop\\coding\\work\\ocr\\tessenv\\lib\\site-packages)\n",
      "WARNING: Ignoring invalid distribution -pencv-python-headless (c:\\users\\lim hui xuan\\desktop\\coding\\work\\ocr\\tessenv\\lib\\site-packages)\n",
      "WARNING: Ignoring invalid distribution -pencv-python-headless (c:\\users\\lim hui xuan\\desktop\\coding\\work\\ocr\\tessenv\\lib\\site-packages)\n",
      "WARNING: You are using pip version 22.0.4; however, version 23.1.2 is available.\n",
      "You should consider upgrading via the 'c:\\Users\\Lim Hui Xuan\\Desktop\\coding\\work\\ocr\\tessenv\\Scripts\\python.exe -m pip install --upgrade pip' command.\n"
     ]
    },
    {
     "name": "stdout",
     "output_type": "stream",
     "text": [
      "Requirement already satisfied: scipy in c:\\users\\lim hui xuan\\desktop\\coding\\work\\ocr\\tessenv\\lib\\site-packages (1.11.0)\n",
      "Requirement already satisfied: numpy<1.28.0,>=1.21.6 in c:\\users\\lim hui xuan\\desktop\\coding\\work\\ocr\\tessenv\\lib\\site-packages (from scipy) (1.24.3)\n",
      "Note: you may need to restart the kernel to use updated packages.\n"
     ]
    },
    {
     "name": "stderr",
     "output_type": "stream",
     "text": [
      "WARNING: Ignoring invalid distribution -pencv-python-headless (c:\\users\\lim hui xuan\\desktop\\coding\\work\\ocr\\tessenv\\lib\\site-packages)\n",
      "WARNING: Ignoring invalid distribution -pencv-python-headless (c:\\users\\lim hui xuan\\desktop\\coding\\work\\ocr\\tessenv\\lib\\site-packages)\n",
      "WARNING: Ignoring invalid distribution -pencv-python-headless (c:\\users\\lim hui xuan\\desktop\\coding\\work\\ocr\\tessenv\\lib\\site-packages)\n",
      "WARNING: Ignoring invalid distribution -pencv-python-headless (c:\\users\\lim hui xuan\\desktop\\coding\\work\\ocr\\tessenv\\lib\\site-packages)\n",
      "WARNING: Ignoring invalid distribution -pencv-python-headless (c:\\users\\lim hui xuan\\desktop\\coding\\work\\ocr\\tessenv\\lib\\site-packages)\n",
      "WARNING: Ignoring invalid distribution -pencv-python-headless (c:\\users\\lim hui xuan\\desktop\\coding\\work\\ocr\\tessenv\\lib\\site-packages)\n",
      "WARNING: You are using pip version 22.0.4; however, version 23.1.2 is available.\n",
      "You should consider upgrading via the 'c:\\Users\\Lim Hui Xuan\\Desktop\\coding\\work\\ocr\\tessenv\\Scripts\\python.exe -m pip install --upgrade pip' command.\n"
     ]
    }
   ],
   "source": [
    "%pip install opencv-python\n",
    "%pip install matplotlib\n",
    "%pip install pytesseract\n",
    "%pip install regex\n",
    "%pip install scipy"
   ]
  },
  {
   "cell_type": "code",
   "execution_count": 1,
   "metadata": {},
   "outputs": [],
   "source": [
    "import cv2\n",
    "import pytesseract\n",
    "from PIL import Image\n",
    "from matplotlib import pyplot as plt\n",
    "import numpy as np\n",
    "import imutils"
   ]
  },
  {
   "cell_type": "code",
   "execution_count": 2,
   "metadata": {},
   "outputs": [],
   "source": [
    "def biggest_contour(contours):\n",
    "    biggest = np.array([])\n",
    "    max_area = 0\n",
    "    for i in contours:\n",
    "        area = cv2.contourArea(i)\n",
    "        if area > 1000:\n",
    "            peri = cv2.arcLength(i, True)\n",
    "            approx = cv2.approxPolyDP(i, 0.15 * peri, True)\n",
    "            print(approx)\n",
    "            if area > max_area and len(approx) >= 4:\n",
    "                biggest = approx\n",
    "                max_area = area\n",
    "    return biggest\n",
    "\n",
    "def correct_skew(image):\n",
    "    img = image.copy()\n",
    "    \n",
    "    #greyscale and search for edges\n",
    "    #grayscale = cv2.cvtColor(img, cv2.COLOR_RGB2GRAY)\n",
    "    grayscale = cv2.bilateralFilter(img, 20, 30, 30)\n",
    "    edged = cv2.Canny(grayscale, 230, 240)\n",
    "    \n",
    "    #grayscale = np.stack((grayscale,) * 3, axis = -1)\n",
    "    #edged = np.stack((edged,) * 3, axis = -1)\n",
    "    #img_hor = np.hstack((img, grayscale, edged))\n",
    "    \n",
    "    # contour detection\n",
    "    contours, hierachy = cv2.findContours(grayscale.copy(), cv2.RETR_TREE, cv2.CHAIN_APPROX_SIMPLE)\n",
    "    contours = sorted(contours, key = cv2.contourArea, reverse = True)[:1] # largest contour area\n",
    "    biggest = biggest_contour(contours)\n",
    "    \n",
    "    # testing\n",
    "    cv2.drawContours(img, [biggest], -1, (0, 255, 0), 3)\n",
    "    \n",
    "    # pixel values of the contours in the image\n",
    "    points = biggest.reshape(4, 2)\n",
    "    input_points = np.zeros((4, 2), dtype = \"float32\")\n",
    "    \n",
    "    points_sum = points.sum(axis = 1)\n",
    "    input_points[0] = points[np.argmin(points_sum)]\n",
    "    input_points[3] = points[np.argmax(points_sum)]\n",
    "    \n",
    "    points_diff = np.diff(points, axis = 1)\n",
    "    input_points[1] = points[np.argmin(points_diff)]\n",
    "    input_points[2] = points[np.argmax(points_diff)]\n",
    "    \n",
    "    (top_left, top_right, bottom_right, bottom_left) = input_points\n",
    "    bottom_width = np.sqrt(((bottom_right[0] - bottom_left[0]) ** 2) + (bottom_right[1] - bottom_left[1]) ** 2)\n",
    "    top_width =  np.sqrt(((top_right[0] - top_left[0]) ** 2) + (top_right[1] - top_left[1]) ** 2)\n",
    "    right_height =  np.sqrt(((top_right[0] - bottom_right[0]) ** 2) + (top_right[1] - bottom_right[1]) ** 2)\n",
    "    left_height =  np.sqrt(((top_left[0] - bottom_left[0]) ** 2) + (top_left[1] - bottom_left[1]) ** 2)\n",
    "    \n",
    "    #output image size\n",
    "    max_width = max(int(bottom_width), int(top_width))\n",
    "    max_height = max(int(right_height), int(left_height))\n",
    "    \n",
    "    #desired points\n",
    "    converted_points = np.float32([[0, 0], [max_width, 0], [0, max_height], [max_width, max_height]])\n",
    "    \n",
    "    # perform the perspective transformation\n",
    "    matrix = cv2.getPerspectiveTransform(input_points, converted_points)\n",
    "    img_output = cv2.warpPerspective(img, matrix, (max_width, max_height))\n",
    "    \n",
    "    return img_output\n",
    "    "
   ]
  },
  {
   "cell_type": "code",
   "execution_count": 3,
   "metadata": {},
   "outputs": [],
   "source": [
    "# attempt new code for correcting perspective distortion\n",
    "def order_points(pts):\n",
    "\t# initialize a list of coordinates that will be ordered\n",
    "\t# such that the first entry in the list is the top-left,\n",
    "\t# the second entry is the top-right, the third is the\n",
    "\t# bottom-right, and the fourth is the bottom-left\n",
    "\trect = np.zeros((4, 2), dtype = \"float32\")\n",
    " \n",
    "\t# the top-left point will have the smallest sum, whereas\n",
    "\t# the bottom-right point will have the largest sum\n",
    "\ts = pts.sum(axis = 1)\n",
    "\trect[0] = pts[np.argmin(s)]\n",
    "\trect[2] = pts[np.argmax(s)]\n",
    " \n",
    "\t# now, compute the difference between the points, the\n",
    "\t# top-right point will have the smallest difference,\n",
    "\t# whereas the bottom-left will have the largest difference\n",
    "\tdiff = np.diff(pts, axis = 1)\n",
    "\trect[1] = pts[np.argmin(diff)]\n",
    "\trect[3] = pts[np.argmax(diff)]\n",
    " \n",
    "\t# return the ordered coordinates\n",
    "\treturn rect\n",
    "\n",
    "def four_point_transform(image, pts):\n",
    "    # obtain a consistent order of the points and unpack them\n",
    "\t# individually\n",
    "\trect = order_points(pts)\n",
    "\t(tl, tr, br, bl) = rect\n",
    "\t# compute the width of the new image, which will be the\n",
    "\t# maximum distance between bottom-right and bottom-left\n",
    "\t# x-coordiates or the top-right and top-left x-coordinates\n",
    "\twidthA = np.sqrt(((br[0] - bl[0]) ** 2) + ((br[1] - bl[1]) ** 2))\n",
    "\twidthB = np.sqrt(((tr[0] - tl[0]) ** 2) + ((tr[1] - tl[1]) ** 2))\n",
    "\tmaxWidth = max(int(widthA), int(widthB))\n",
    "\t# compute the height of the new image, which will be the\n",
    "\t# maximum distance between the top-right and bottom-right\n",
    "\t# y-coordinates or the top-left and bottom-left y-coordinates\n",
    "\theightA = np.sqrt(((tr[0] - br[0]) ** 2) + ((tr[1] - br[1]) ** 2))\n",
    "\theightB = np.sqrt(((tl[0] - bl[0]) ** 2) + ((tl[1] - bl[1]) ** 2))\n",
    "\tmaxHeight = max(int(heightA), int(heightB))\n",
    "\t# now that we have the dimensions of the new image, construct\n",
    "\t# the set of destination points to obtain a \"birds eye view\",\n",
    "\t# (i.e. top-down view) of the image, again specifying points\n",
    "\t# in the top-left, top-right, bottom-right, and bottom-left\n",
    "\t# order\n",
    "\tdst = np.array([\n",
    "\t\t[0, 0],\n",
    "\t\t[maxWidth - 1, 0],\n",
    "\t\t[maxWidth - 1, maxHeight - 1],\n",
    "\t\t[0, maxHeight - 1]], dtype = \"float32\")\n",
    "\t# compute the perspective transform matrix and then apply it\n",
    "\tM = cv2.getPerspectiveTransform(rect, dst)\n",
    "\twarped = cv2.warpPerspective(image, M, (maxWidth, maxHeight))\n",
    "\t# return the warped image\n",
    "\treturn warped\n"
   ]
  },
  {
   "cell_type": "code",
   "execution_count": 24,
   "metadata": {},
   "outputs": [],
   "source": [
    "def correct_skew1(img):\n",
    "    # load the image and compute the ratio of the old height\n",
    "    # to the new height, clone it, and resize it\n",
    "    ratio = img.shape[0] / 500.0\n",
    "    orig = img.copy()\n",
    "    img = imutils.resize(img, height = 500)\n",
    "    \n",
    "    # convert the image to grayscale, blur it, and find edges\n",
    "    # in the image\n",
    "    gray = cv2.cvtColor(img, cv2.COLOR_BGR2GRAY)\n",
    "    gray = cv2.GaussianBlur(gray, (5, 5), 0)\n",
    "    \n",
    "    # manually calculate the threshold for the edge using median\n",
    "    \n",
    "    v, sigma = np.median(gray), 0.33\n",
    "\n",
    "    #---- apply automatic Canny edge detection using the computed median----\n",
    "    lower = int(max(0, (1.0 - sigma) * v))\n",
    "    upper = int(min(255, (1.0 + sigma) * v))\n",
    "    edged = cv2.Canny(gray, lower, upper)\n",
    "    \n",
    "    # find the contours in the edged image, keeping only the\n",
    "    # largest ones, and initialize the screen contour\n",
    "    cnts = cv2.findContours(edged.copy(), cv2.RETR_LIST, cv2.CHAIN_APPROX_SIMPLE)\n",
    "    cnts = imutils.grab_contours(cnts)\n",
    "    cnts = sorted(cnts, key = cv2.contourArea, reverse = True)[:4]\n",
    "    # loop over the contours\n",
    "    for c in cnts:\n",
    "        # approximate the contour\n",
    "        cv2.drawContours(img, [c], -1, (0, 255, 0), 2)\n",
    "        cv2.imshow(\"Outline\", img)\n",
    "        cv2.waitKey(0)\n",
    "        cv2.destroyAllWindows()\n",
    "        \n",
    "        peri = cv2.arcLength(c, True)\n",
    "        approx = cv2.approxPolyDP(c, 0.02 * peri, True)\n",
    "        # if our approximated contour has four points, then we\n",
    "        # can assume that we have found our screen\n",
    "        if len(approx) == 4:\n",
    "            screenCnt = approx\n",
    "            #break\n",
    "    # show the contour (outline) of the piece of paper\n",
    "    #print(\"STEP 2: Find contours of paper\")\n",
    "    cv2.drawContours(img, [screenCnt], -1, (0, 255, 255), 2)\n",
    "    \n",
    "    return img\n"
   ]
  },
  {
   "cell_type": "code",
   "execution_count": 25,
   "metadata": {},
   "outputs": [],
   "source": [
    "def preprocess_img(img):\n",
    "    #color to greyscale\n",
    "    grayscale = cv2.cvtColor(img, cv2.COLOR_BGR2GRAY)\n",
    "    \n",
    "    #normalize image\n",
    "    norm_img = np.zeros((img.shape[0], img.shape[1]))\n",
    "    norm = cv2.normalize(grayscale, norm_img, 0, 255, cv2.NORM_MINMAX)\n",
    "    blur = cv2.medianBlur(norm, 5)\n",
    "    canny = cv2.Canny(blur, 40, 50)\n",
    "    \n",
    "    # denoise the image\n",
    "    #img = cv2.fastNlMeansDenoisingColored(norm, None, 10, 10, 7, 15)\n",
    "    \n",
    "    #thresh = cv2.threshold(grayscale, 0, 255, cv2.THRESH_BINARY | cv2.THRESH_OTSU)[1]\n",
    "    #dist = cv2.distanceTransform(thresh, cv2.DIST_L2, 5)\n",
    "    #dist = cv2.normalize(dist, dist, 0, 1.0, cv2.NORM_MINMAX)\n",
    "    #dist = (dist * 255).astype(\"uint8\")\n",
    "\n",
    "    return canny"
   ]
  },
  {
   "cell_type": "code",
   "execution_count": 26,
   "metadata": {},
   "outputs": [
    {
     "name": "stdout",
     "output_type": "stream",
     "text": [
      "APPOIN\n",
      "\n",
      "Apr - Oct\n",
      "pr- Oct\n",
      "\n",
      "650.322.8882\n",
      "LajolieNailSpa.com\n",
      "\n",
      "IBRUNABLE TO KEEP THE APPOINTME\n",
      "\n"
     ]
    }
   ],
   "source": [
    "# to test the code\n",
    "test_path = \"./test/096.jpg_Canon.jpg\"\n",
    "proc_img = correct_skew1(cv2.imread(test_path))\n",
    "\n",
    "#cv2.namedWindow('result', cv2.WINDOW_NORMAL)\n",
    "#cv2.imshow(\"result\", proc_img)\n",
    "#cv2.waitKey(0)\n",
    "\n",
    "print(pytesseract.image_to_string(proc_img))\n",
    "#print(pytesseract.image_to_string(Image.open(test_path)))"
   ]
  },
  {
   "cell_type": "code",
   "execution_count": 1,
   "metadata": {},
   "outputs": [],
   "source": [
    "import regex as re\n",
    "\n",
    "def extract_text(img_path, lang):\n",
    "    return pytesseract.image_to_string(Image.open(img_path), lang = lang)\n",
    "\n",
    "def extract_name(ocr_result):\n",
    "    # Define pattern to extract company\n",
    "    company_pattern = r'(?i)(?:^|\\b)([A-Z][A-Za-z]+(?: [A-Z][A-Za-z]+)*)(?:\\b|$)'\n",
    "\n",
    "    # Extract company using regular expression pattern\n",
    "    company_match = re.search(company_pattern, ocr_result)\n",
    "    if company_match:\n",
    "        return company_match.group(1)\n",
    "    else:\n",
    "        return None\n",
    "\n",
    "def extract_email(ocr_result):\n",
    "    # Extract email address using regular expression pattern\n",
    "    email_pattern = r'\\b[A-Za-z0-9._%+-]+@[A-Za-z0-9.-]+\\.[A-Z|a-z]{2,}\\b'\n",
    "    email_match = re.search(email_pattern, ocr_result, re.I)\n",
    "    if email_match:\n",
    "        return email_match.group()\n",
    "    else:\n",
    "        return None\n",
    "\n",
    "def extract_company(ocr_result):\n",
    "    # TODO: Define pattern to extract company\n",
    "    company_pattern = r'(?i)(?:^|\\b)([A-Z][A-Za-z]+(?: [A-Z][A-Za-z]+)*)(?:\\b|$)'\n",
    "\n",
    "    # Extract company using regular expression pattern\n",
    "    company_match = re.search(company_pattern, ocr_result)\n",
    "    if company_match:\n",
    "        return company_match.group(1)\n",
    "    else:\n",
    "        return None\n",
    "\n",
    "def extract_contact(ocr_result):\n",
    "    # Extract contact number using regular expression pattern\n",
    "    contact_number_pattern = r'\\b\\d+\\b'\n",
    "    contact_number_matches = re.findall(contact_number_pattern, ocr_result)\n",
    "    contact_number = ''.join(contact_number_matches)\n",
    "    if contact_number:\n",
    "        return contact_number\n",
    "    else:\n",
    "        return None"
   ]
  },
  {
   "cell_type": "code",
   "execution_count": 25,
   "metadata": {},
   "outputs": [
    {
     "data": {
      "text/plain": [
       "'Ale iS Beckman'"
      ]
     },
     "execution_count": 25,
     "metadata": {},
     "output_type": "execute_result"
    }
   ],
   "source": [
    "# extract functions\n",
    "extract_company(extract_text(test_path, lang = \"eng\"))"
   ]
  },
  {
   "cell_type": "code",
   "execution_count": 17,
   "metadata": {},
   "outputs": [
    {
     "data": {
      "text/plain": [
       "'Alexis Beckman'"
      ]
     },
     "execution_count": 17,
     "metadata": {},
     "output_type": "execute_result"
    }
   ],
   "source": [
    "extract_name(extract_text(test_path, lang = \"eng\"))"
   ]
  },
  {
   "cell_type": "code",
   "execution_count": 18,
   "metadata": {},
   "outputs": [
    {
     "data": {
      "text/plain": [
       "'info@culturefrozenyogurt.com'"
      ]
     },
     "execution_count": 18,
     "metadata": {},
     "output_type": "execute_result"
    }
   ],
   "source": [
    "extract_email(extract_text(test_path, lang = \"eng\"))"
   ]
  },
  {
   "cell_type": "code",
   "execution_count": 19,
   "metadata": {},
   "outputs": [
    {
     "data": {
      "text/plain": [
       "'6503240440650324044834094306100'"
      ]
     },
     "execution_count": 19,
     "metadata": {},
     "output_type": "execute_result"
    }
   ],
   "source": [
    "extract_contact(extract_text(test_path, lang = \"eng\"))"
   ]
  },
  {
   "cell_type": "code",
   "execution_count": 20,
   "metadata": {},
   "outputs": [],
   "source": [
    "import json\n",
    "\n",
    "# function to produce the json\n",
    "def extract_json(img_path, lang):\n",
    "    res_dict = {}\n",
    "    \n",
    "    extracted_txt = extract_text(img_path, lang = lang)\n",
    "    res_dict[\"name\"], res_dict[\"email\"], res_dict[\"contact\"], res_dict[\"company\"] = extract_name(extracted_txt), extract_email(extracted_txt), extract_contact(extracted_txt), extract_contact(extracted_txt)\n",
    "    \n",
    "    res_json = json.dumps(res_dict)\n",
    "    return res_json\n",
    "    "
   ]
  },
  {
   "cell_type": "code",
   "execution_count": 21,
   "metadata": {},
   "outputs": [
    {
     "data": {
      "text/plain": [
       "'{\"name\": \"Alexis Beckman\", \"email\": \"info@culturefrozenyogurt.com\", \"contact\": \"6503240440650324044834094306100\", \"company\": \"6503240440650324044834094306100\"}'"
      ]
     },
     "execution_count": 21,
     "metadata": {},
     "output_type": "execute_result"
    }
   ],
   "source": [
    "# testing the json function\n",
    "extract_json(test_path, \"eng\")"
   ]
  }
 ],
 "metadata": {
  "kernelspec": {
   "display_name": "tessenv",
   "language": "python",
   "name": "python3"
  },
  "language_info": {
   "codemirror_mode": {
    "name": "ipython",
    "version": 3
   },
   "file_extension": ".py",
   "mimetype": "text/x-python",
   "name": "python",
   "nbconvert_exporter": "python",
   "pygments_lexer": "ipython3",
   "version": "3.9.16"
  },
  "orig_nbformat": 4
 },
 "nbformat": 4,
 "nbformat_minor": 2
}
