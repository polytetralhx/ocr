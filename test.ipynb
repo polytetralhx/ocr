{
 "cells": [
  {
   "attachments": {},
   "cell_type": "markdown",
   "metadata": {},
   "source": [
    "## Pytesseract attempt"
   ]
  },
  {
   "cell_type": "code",
   "execution_count": 1,
   "metadata": {},
   "outputs": [
    {
     "name": "stdout",
     "output_type": "stream",
     "text": [
      "Requirement already satisfied: opencv-python-headless in c:\\users\\lim hui xuan\\desktop\\coding\\work\\ocr\\tessenv\\lib\\site-packages (4.7.0.72)\n",
      "Requirement already satisfied: numpy>=1.19.3 in c:\\users\\lim hui xuan\\desktop\\coding\\work\\ocr\\tessenv\\lib\\site-packages (from opencv-python-headless) (1.24.3)\n",
      "Note: you may need to restart the kernel to use updated packages.\n"
     ]
    },
    {
     "name": "stderr",
     "output_type": "stream",
     "text": [
      "WARNING: You are using pip version 22.0.4; however, version 23.1.2 is available.\n",
      "You should consider upgrading via the 'c:\\Users\\Lim Hui Xuan\\Desktop\\coding\\work\\ocr\\tessenv\\Scripts\\python.exe -m pip install --upgrade pip' command.\n"
     ]
    },
    {
     "name": "stdout",
     "output_type": "stream",
     "text": [
      "Requirement already satisfied: matplotlib in c:\\users\\lim hui xuan\\desktop\\coding\\work\\ocr\\tessenv\\lib\\site-packages (3.7.1)\n",
      "Requirement already satisfied: cycler>=0.10 in c:\\users\\lim hui xuan\\desktop\\coding\\work\\ocr\\tessenv\\lib\\site-packages (from matplotlib) (0.11.0)\n",
      "Requirement already satisfied: python-dateutil>=2.7 in c:\\users\\lim hui xuan\\desktop\\coding\\work\\ocr\\tessenv\\lib\\site-packages (from matplotlib) (2.8.2)\n",
      "Requirement already satisfied: contourpy>=1.0.1 in c:\\users\\lim hui xuan\\desktop\\coding\\work\\ocr\\tessenv\\lib\\site-packages (from matplotlib) (1.0.7)\n",
      "Requirement already satisfied: pillow>=6.2.0 in c:\\users\\lim hui xuan\\desktop\\coding\\work\\ocr\\tessenv\\lib\\site-packages (from matplotlib) (9.5.0)\n",
      "Requirement already satisfied: packaging>=20.0 in c:\\users\\lim hui xuan\\desktop\\coding\\work\\ocr\\tessenv\\lib\\site-packages (from matplotlib) (23.1)\n",
      "Requirement already satisfied: importlib-resources>=3.2.0 in c:\\users\\lim hui xuan\\desktop\\coding\\work\\ocr\\tessenv\\lib\\site-packages (from matplotlib) (5.12.0)\n",
      "Requirement already satisfied: numpy>=1.20 in c:\\users\\lim hui xuan\\desktop\\coding\\work\\ocr\\tessenv\\lib\\site-packages (from matplotlib) (1.24.3)\n",
      "Requirement already satisfied: pyparsing>=2.3.1 in c:\\users\\lim hui xuan\\desktop\\coding\\work\\ocr\\tessenv\\lib\\site-packages (from matplotlib) (3.0.9)\n",
      "Requirement already satisfied: kiwisolver>=1.0.1 in c:\\users\\lim hui xuan\\desktop\\coding\\work\\ocr\\tessenv\\lib\\site-packages (from matplotlib) (1.4.4)\n",
      "Requirement already satisfied: fonttools>=4.22.0 in c:\\users\\lim hui xuan\\desktop\\coding\\work\\ocr\\tessenv\\lib\\site-packages (from matplotlib) (4.39.4)\n",
      "Requirement already satisfied: zipp>=3.1.0 in c:\\users\\lim hui xuan\\desktop\\coding\\work\\ocr\\tessenv\\lib\\site-packages (from importlib-resources>=3.2.0->matplotlib) (3.15.0)\n",
      "Requirement already satisfied: six>=1.5 in c:\\users\\lim hui xuan\\desktop\\coding\\work\\ocr\\tessenv\\lib\\site-packages (from python-dateutil>=2.7->matplotlib) (1.16.0)\n",
      "Note: you may need to restart the kernel to use updated packages.\n"
     ]
    },
    {
     "name": "stderr",
     "output_type": "stream",
     "text": [
      "WARNING: You are using pip version 22.0.4; however, version 23.1.2 is available.\n",
      "You should consider upgrading via the 'c:\\Users\\Lim Hui Xuan\\Desktop\\coding\\work\\ocr\\tessenv\\Scripts\\python.exe -m pip install --upgrade pip' command.\n"
     ]
    },
    {
     "name": "stdout",
     "output_type": "stream",
     "text": [
      "Requirement already satisfied: pytesseract in c:\\users\\lim hui xuan\\desktop\\coding\\work\\ocr\\tessenv\\lib\\site-packages (0.3.10)\n",
      "Requirement already satisfied: Pillow>=8.0.0 in c:\\users\\lim hui xuan\\desktop\\coding\\work\\ocr\\tessenv\\lib\\site-packages (from pytesseract) (9.5.0)\n",
      "Requirement already satisfied: packaging>=21.3 in c:\\users\\lim hui xuan\\desktop\\coding\\work\\ocr\\tessenv\\lib\\site-packages (from pytesseract) (23.1)\n",
      "Note: you may need to restart the kernel to use updated packages.\n"
     ]
    },
    {
     "name": "stderr",
     "output_type": "stream",
     "text": [
      "WARNING: You are using pip version 22.0.4; however, version 23.1.2 is available.\n",
      "You should consider upgrading via the 'c:\\Users\\Lim Hui Xuan\\Desktop\\coding\\work\\ocr\\tessenv\\Scripts\\python.exe -m pip install --upgrade pip' command.\n"
     ]
    },
    {
     "name": "stdout",
     "output_type": "stream",
     "text": [
      "Note: you may need to restart the kernel to use updated packages.\n"
     ]
    },
    {
     "name": "stderr",
     "output_type": "stream",
     "text": [
      "WARNING: You are using pip version 22.0.4; however, version 23.1.2 is available.\n",
      "You should consider upgrading via the 'c:\\Users\\Lim Hui Xuan\\Desktop\\coding\\work\\ocr\\tessenv\\Scripts\\python.exe -m pip install --upgrade pip' command.\n"
     ]
    },
    {
     "name": "stdout",
     "output_type": "stream",
     "text": [
      "Requirement already satisfied: regex in c:\\users\\lim hui xuan\\desktop\\coding\\work\\ocr\\tessenv\\lib\\site-packages (2023.6.3)\n"
     ]
    }
   ],
   "source": [
    "%pip install opencv-python-headless\n",
    "%pip install matplotlib\n",
    "%pip install pytesseract\n",
    "%pip install regex"
   ]
  },
  {
   "cell_type": "code",
   "execution_count": 6,
   "metadata": {},
   "outputs": [],
   "source": [
    "import cv2\n",
    "import pytesseract\n",
    "import os\n",
    "from PIL import Image"
   ]
  },
  {
   "cell_type": "code",
   "execution_count": 7,
   "metadata": {},
   "outputs": [
    {
     "name": "stdout",
     "output_type": "stream",
     "text": [
      "Alexis Beckman\n",
      ": yogurt-in-chief\n",
      "\n",
      "t 650.324.0440\n",
      "f 650.324.0448\n",
      "\n",
      "info@culturefrozenyogurt.com\n",
      "www.culturefrozenyogurt.com\n",
      "\n",
      "340 S. California Avenue\n",
      "Palo Alto » California 94306\n",
      "\n",
      "“: 100 recyclea post consumer rider\n",
      "\n",
      "\n"
     ]
    }
   ],
   "source": [
    "test_path = \"./test/099.jpg_Reference.jpg\"\n",
    "\n",
    "print(pytesseract.image_to_string(Image.open(test_path)))"
   ]
  },
  {
   "cell_type": "code",
   "execution_count": 14,
   "metadata": {},
   "outputs": [],
   "source": [
    "import regex as re\n",
    "\n",
    "def extract_text(img_path, lang):\n",
    "    return pytesseract.image_to_string(Image.open(img_path), lang = lang)\n",
    "\n",
    "def extract_name(ocr_result):\n",
    "    # Define pattern to extract company\n",
    "    company_pattern = r'(?i)(?:^|\\b)([A-Z][A-Za-z]+(?: [A-Z][A-Za-z]+)*)(?:\\b|$)'\n",
    "\n",
    "    # Extract company using regular expression pattern\n",
    "    company_match = re.search(company_pattern, ocr_result)\n",
    "    if company_match:\n",
    "        return company_match.group(1)\n",
    "    else:\n",
    "        return None\n",
    "\n",
    "def extract_email(ocr_result):\n",
    "    # Extract email address using regular expression pattern\n",
    "    email_pattern = r'\\b[A-Za-z0-9._%+-]+@[A-Za-z0-9.-]+\\.[A-Z|a-z]{2,}\\b'\n",
    "    email_match = re.search(email_pattern, ocr_result, re.I)\n",
    "    if email_match:\n",
    "        return email_match.group()\n",
    "    else:\n",
    "        return None\n",
    "\n",
    "def extract_company(ocr_result):\n",
    "    # TODO: Define pattern to extract company\n",
    "    company_pattern = r'(?i)(?:^|\\b)([A-Z][A-Za-z]+(?: [A-Z][A-Za-z]+)*)(?:\\b|$)'\n",
    "\n",
    "    # Extract company using regular expression pattern\n",
    "    company_match = re.search(company_pattern, ocr_result)\n",
    "    if company_match:\n",
    "        return company_match.group(1)\n",
    "    else:\n",
    "        return None\n",
    "\n",
    "def extract_contact(ocr_result):\n",
    "    # Extract contact number using regular expression pattern\n",
    "    contact_number_pattern = r'\\b\\d+\\b'\n",
    "    contact_number_matches = re.findall(contact_number_pattern, ocr_result)\n",
    "    contact_number = ''.join(contact_number_matches)\n",
    "    if contact_number:\n",
    "        return contact_number\n",
    "    else:\n",
    "        return None"
   ]
  },
  {
   "cell_type": "code",
   "execution_count": 16,
   "metadata": {},
   "outputs": [
    {
     "data": {
      "text/plain": [
       "'Alexis Beckman'"
      ]
     },
     "execution_count": 16,
     "metadata": {},
     "output_type": "execute_result"
    }
   ],
   "source": [
    "# extract functions\n",
    "extract_company(extract_text(test_path, lang = \"eng\"))"
   ]
  },
  {
   "cell_type": "code",
   "execution_count": 17,
   "metadata": {},
   "outputs": [
    {
     "data": {
      "text/plain": [
       "'Alexis Beckman'"
      ]
     },
     "execution_count": 17,
     "metadata": {},
     "output_type": "execute_result"
    }
   ],
   "source": [
    "extract_name(extract_text(test_path, lang = \"eng\"))"
   ]
  },
  {
   "cell_type": "code",
   "execution_count": 18,
   "metadata": {},
   "outputs": [
    {
     "data": {
      "text/plain": [
       "'info@culturefrozenyogurt.com'"
      ]
     },
     "execution_count": 18,
     "metadata": {},
     "output_type": "execute_result"
    }
   ],
   "source": [
    "extract_email(extract_text(test_path, lang = \"eng\"))"
   ]
  },
  {
   "cell_type": "code",
   "execution_count": 19,
   "metadata": {},
   "outputs": [
    {
     "data": {
      "text/plain": [
       "'6503240440650324044834094306100'"
      ]
     },
     "execution_count": 19,
     "metadata": {},
     "output_type": "execute_result"
    }
   ],
   "source": [
    "extract_contact(extract_text(test_path, lang = \"eng\"))"
   ]
  },
  {
   "cell_type": "code",
   "execution_count": 20,
   "metadata": {},
   "outputs": [],
   "source": [
    "import json\n",
    "\n",
    "# function to produce the json\n",
    "def extract_json(img_path, lang):\n",
    "    res_dict = {}\n",
    "    \n",
    "    extracted_txt = extract_text(img_path, lang = lang)\n",
    "    res_dict[\"name\"], res_dict[\"email\"], res_dict[\"contact\"], res_dict[\"company\"] = extract_name(extracted_txt), extract_email(extracted_txt), extract_contact(extracted_txt), extract_contact(extracted_txt)\n",
    "    \n",
    "    res_json = json.dumps(res_dict)\n",
    "    return res_json\n",
    "    "
   ]
  },
  {
   "cell_type": "code",
   "execution_count": 21,
   "metadata": {},
   "outputs": [
    {
     "data": {
      "text/plain": [
       "'{\"name\": \"Alexis Beckman\", \"email\": \"info@culturefrozenyogurt.com\", \"contact\": \"6503240440650324044834094306100\", \"company\": \"6503240440650324044834094306100\"}'"
      ]
     },
     "execution_count": 21,
     "metadata": {},
     "output_type": "execute_result"
    }
   ],
   "source": [
    "# testing the json function\n",
    "extract_json(test_path, \"eng\")"
   ]
  }
 ],
 "metadata": {
  "kernelspec": {
   "display_name": "tessenv",
   "language": "python",
   "name": "python3"
  },
  "language_info": {
   "codemirror_mode": {
    "name": "ipython",
    "version": 3
   },
   "file_extension": ".py",
   "mimetype": "text/x-python",
   "name": "python",
   "nbconvert_exporter": "python",
   "pygments_lexer": "ipython3",
   "version": "3.9.16"
  },
  "orig_nbformat": 4
 },
 "nbformat": 4,
 "nbformat_minor": 2
}
